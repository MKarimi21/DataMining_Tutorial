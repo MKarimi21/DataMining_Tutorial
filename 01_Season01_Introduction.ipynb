{
 "cells": [
  {
   "cell_type": "code",
   "execution_count": null,
   "id": "returning-roots",
   "metadata": {},
   "outputs": [],
   "source": [
    "# default_exp Season 01"
   ]
  },
  {
   "cell_type": "code",
   "execution_count": null,
   "id": "automatic-coffee",
   "metadata": {},
   "outputs": [],
   "source": [
    "#hide\n",
    "from nbdev.showdoc import *"
   ]
  },
  {
   "cell_type": "markdown",
   "id": "tough-expense",
   "metadata": {},
   "source": [
    "# 01 Season01: Introduction"
   ]
  },
  {
   "cell_type": "code",
   "execution_count": null,
   "id": "confirmed-glucose",
   "metadata": {},
   "outputs": [],
   "source": []
  }
 ],
 "metadata": {
  "kernelspec": {
   "display_name": "Python 3",
   "language": "python",
   "name": "python3"
  }
 },
 "nbformat": 4,
 "nbformat_minor": 5
}

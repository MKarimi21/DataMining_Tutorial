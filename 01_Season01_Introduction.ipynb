{
 "cells": [
  {
   "cell_type": "code",
   "execution_count": null,
   "id": "returning-roots",
   "metadata": {},
   "outputs": [],
   "source": [
    "# default_exp Season 01"
   ]
  },
  {
   "cell_type": "code",
   "execution_count": null,
   "id": "breathing-pierce",
   "metadata": {},
   "outputs": [],
   "source": [
    "#hide\n",
    "from nbdev.showdoc import *"
   ]
  },
  {
   "cell_type": "markdown",
   "id": "tough-expense",
   "metadata": {},
   "source": [
    "# 01 Season01: Introduction"
   ]
  },
  {
   "cell_type": "markdown",
   "id": "nominated-atlantic",
   "metadata": {},
   "source": [
    "<div dir=\"rtl\" style=\"font-family:Vazir;\" >\n",
    "\n",
    "## 1.1. مقدمه"
   ]
  },
  {
   "cell_type": "markdown",
   "id": "automatic-buffer",
   "metadata": {},
   "source": [
    "<div dir=\"rtl\" style=\"font-family:Vazir;\" >\n",
    "    \n",
    "<p class=\"text-justify\">\n",
    "    متن مقدمه برای شروع\n",
    "    <br>\n",
    "    \n",
    "    \n",
    "</p> \n",
    "    \n"
   ]
  },
  {
   "cell_type": "markdown",
   "id": "welsh-journey",
   "metadata": {},
   "source": []
  },
  {
   "cell_type": "markdown",
   "id": "exposed-moment",
   "metadata": {},
   "source": [
    "----\n",
    "\n",
    "\n",
    "\n",
    "\n",
    "#### Any Question:\n",
    "\n",
    "<script src=\"https://utteranc.es/client.js\"\n",
    "        repo=\"mkarimi21/datamining_tutorial\"\n",
    "        issue-term=\"pathname\"\n",
    "        label=\"Comment\"\n",
    "        theme=\"github-dark\"\n",
    "        crossorigin=\"anonymous\"\n",
    "        async>\n",
    "</script>\n",
    "\n"
   ]
  },
  {
   "cell_type": "code",
   "execution_count": null,
   "id": "acknowledged-helicopter",
   "metadata": {},
   "outputs": [],
   "source": []
  }
 ],
 "metadata": {
  "kernelspec": {
   "display_name": "Python 3",
   "language": "python",
   "name": "python3"
  }
 },
 "nbformat": 4,
 "nbformat_minor": 5
}

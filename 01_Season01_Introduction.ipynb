{
 "cells": [
  {
   "cell_type": "code",
   "execution_count": null,
   "id": "returning-roots",
   "metadata": {},
   "outputs": [],
   "source": [
    "# default_exp Season 01"
   ]
  },
  {
   "cell_type": "code",
   "execution_count": null,
   "id": "breathing-pierce",
   "metadata": {},
   "outputs": [],
   "source": [
    "#hide\n",
    "from nbdev.showdoc import *"
   ]
  },
  {
   "cell_type": "markdown",
   "id": "structured-public",
   "metadata": {},
   "source": [
    "# 01. Season 01: Introduction"
   ]
  },
  {
   "cell_type": "markdown",
   "id": "nominated-atlantic",
   "metadata": {},
   "source": [
    "<br>\n",
    "<div dir=\"rtl\" style=\"font-family:Vazir;\" >\n",
    "\n",
    "## 1.1. مقدمه"
   ]
  },
  {
   "cell_type": "markdown",
   "id": "automatic-buffer",
   "metadata": {},
   "source": [
    "<div dir=\"rtl\" style=\"font-family:Vazir;\" >\n",
    "<p class=\"text-justify\">  \n",
    "آنالیز داده‌ها به صورت اکتشافی چیست؟\n",
    "<br>\n",
    "سن دانشجویان ورودی سال جدید دانشگاه چند سال است؟\n",
    "<br>    \n",
    "به همین سادگی؟ بله، آیا دقیقا تمامی دانشجویانی که ورودی امسال هستند همه آن‌ها هم سن هستند؟ قطعا خیر ولی برای سادگی و خلاصه سازی می‌توان عدد سن را پاسخ صحیحی دانست تا یک جواب تخمینی و نیمه دقیق به سوال کننده داده شود. اگر سوال کننده بخواهد اطلاعات دقیق‌تر را به‌دست آورد می‌تواند لیستی از تمامی ورودی‌های سال جدید دانشگاه به همراه سن آن‌ها بیابد. این خلاصه سازی کار اصلی آنالیز اکتشافی داده‌ها یا همان Exploratory Data Analysis است که یکی از مباحث مهم در آمار و احتمالات برای دانشمندان و متخصصان علوم داده است.\n",
    "<br>    \n",
    "به کمک EDA و تکنیک‌ها و مفاهیم آن می‌توانید داده‌ها را خلاصه سازی کنید.\n",
    "یک شَمای کلی از داده‌ها به افراد مختلف نمایش دهید و یا با انواع نمودارها و گراف‌ها، خلاصه‌ای از داده‌ها را به افرادی که به آن‌ها نیاز دارند نمایش دهید درواقع EDA را می‌توان از جنبه‌ای اولین قدم برای رسیدن به یک آنالیز داده‌ها و یک شمای کلی از داده‌ها دانست\n",
    "<br>\n",
    "ما نیاز داریم که خلاصه‌ای از داده‌ها داشته باشیم. برای مثال نقشه جهان را در نظر بگیرید.\n",
    "نقشه جهان در واقع یک خلاصه‌ای از کل جهان است که خیلی از جزییات را در آن ندارد ولی بسیار کاربردی است. یک مدل ساده شده و خلاصه شده از جهان که به ما می‌گوید الان در کجای جهان ایستاده‌ایم و کشورهای مجاور ما کدام‌ها هستند.\n",
    "<br>    \n",
    "حال فرض کنید یک سری داده بسیار زیاد دارید که می‌خواهید آن‌ها را تحلیل کنید. آیا بهتر نیست ابتدا یک مدل ساده شده و خلاصه شده به صورت شهودی‌تر از داده‌ها داشته باشید تا بتوانید فرضیات خود را برای تحلیل داده براساس آن‌ها چید؟ مانند این که می‌خواهید به یک مسافرت بروید و یک نقشه که قطعا خلاصه‌ای از مسیرها و پیچ و خم‌های جاده است در اختیار داشته باشید تا به کمک آن بتوانید مسیر را به صورت شماتیک بهتر درک کنید.\n",
    "    \n",
    "    \n",
    "</p> \n",
    "    \n"
   ]
  },
  {
   "cell_type": "markdown",
   "id": "fitted-brown",
   "metadata": {},
   "source": [
    "<br>\n",
    "<div dir=\"rtl\" style=\"font-family:Vazir;\" >\n",
    "\n",
    "## 1.2. انواع مختلف داده‌ها"
   ]
  },
  {
   "cell_type": "markdown",
   "id": "welsh-journey",
   "metadata": {},
   "source": [
    "<div dir=\"rtl\" style=\"font-family:Vazir;\" >\n",
    "<p class=\"text-justify\"> \n",
    "در داده کاوی و آمار داده‌ها به صورت‌های مختلف تقسیم بندی می‌شوند. متخصصان علم داده با توجه به کاربرد و کارکرد داده‌ها، آن‌ها را به دسته‌های مختلفی تقسیم بندی کرده اند که هر دسته ویژگی‌های خاص خود را دارد.\n",
    "درکل داده‌ها در علم آمار و داده کاوی به دسته عددی (Numeric) و غیر عددی (Categorical) تقسیم بندی می‌شوند.\n",
    "هرکدام از آن‌ها به دسته‌های مختلف تقسیم بندی می‌شوند. که به صورت زیر است:\n",
    "    \n",
    "    \n",
    "</p>    "
   ]
  },
  {
   "cell_type": "markdown",
   "id": "exposed-moment",
   "metadata": {},
   "source": [
    "----\n",
    "\n",
    "\n",
    "\n",
    "\n",
    "#### Any Question:\n",
    "\n",
    "<script src=\"https://utteranc.es/client.js\"\n",
    "        repo=\"mkarimi21/datamining_tutorial\"\n",
    "        issue-term=\"pathname\"\n",
    "        label=\"Comment\"\n",
    "        theme=\"github-dark\"\n",
    "        crossorigin=\"anonymous\"\n",
    "        async>\n",
    "</script>\n",
    "\n"
   ]
  },
  {
   "cell_type": "code",
   "execution_count": null,
   "id": "acknowledged-helicopter",
   "metadata": {},
   "outputs": [],
   "source": []
  }
 ],
 "metadata": {
  "kernelspec": {
   "display_name": "Python 3",
   "language": "python",
   "name": "python3"
  }
 },
 "nbformat": 4,
 "nbformat_minor": 5
}

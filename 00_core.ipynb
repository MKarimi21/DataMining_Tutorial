{
 "cells": [
  {
   "cell_type": "code",
   "execution_count": null,
   "metadata": {},
   "outputs": [],
   "source": [
    "# default_exp DataMining"
   ]
  },
  {
   "cell_type": "code",
   "execution_count": null,
   "metadata": {},
   "outputs": [],
   "source": [
    "#hide\n",
    "from nbdev.showdoc import *"
   ]
  },
  {
   "cell_type": "markdown",
   "metadata": {},
   "source": [
    "# Index"
   ]
  },
  {
   "cell_type": "markdown",
   "metadata": {},
   "source": [
    "<br>\n",
    "<br>\n",
    "<div style=\"font-family:Vazir;\">\n",
    "    \n",
    "<h1 align='center'>\n",
    "    دوره داده کاوی برای دانشجویان دانشگاه بجنورد  \n",
    "</h1>\n",
    "<br>\n",
    "<p align=\"center\" style=\"text-align:center\"> \n",
    "    <a href=\"https://github.com/MKarimi21/DataMining_Tutorial/blob/master/LICENSE\" target=\"_blank\" style=\"display:inline-flex\"><img src=\"https://img.shields.io/badge/Licence-Apache-blue?style=flat-square\" target=\"_blank\"></a> <a href=\"https://www.MKarimi21.ir\" target=\"_blank\" style=\"display:inline-flex\"><img src=\"https://img.shields.io/badge/Create--by-MKarimi-red?style=flat-square\" target=\"_blank\"></a>\n",
    "</p> \n",
    "    \n",
    "</div>"
   ]
  },
  {
   "cell_type": "markdown",
   "metadata": {},
   "source": [
    "___"
   ]
  },
  {
   "cell_type": "markdown",
   "metadata": {},
   "source": [
    "____\n",
    "\n",
    "<h1 align=\"center\" style=\"font-family:Vazir;\"><b> فهرست</b></h1><br>\n",
    "\n",
    "<div dir=\"rtl\" style=\"font-family:Vazir;\">\n",
    "    \n",
    "<h2>1. فصل اول؛ مقدمه و آماده سازی داده‌ها    </h2><br> <a href= \"https://mkarimi21.github.io/DataMining_Tutorial/Season01_Introduction.html\" class=\"btn btn-primary btn-sm\" target=\"_blank\" role=\"button\" aria-pressed=\"true\"> صفحه فصل </a> \n",
    "    \n",
    "</div>    \n",
    "\n",
    "    \n",
    "<div dir=\"rtl\" style=\"font-family:Vazir;font-weight:100\">\n",
    "<br><br><br>    \n",
    "«مصطفی کریمی»\n",
    "\n",
    "منابع به کار رفته در این دوره:\n",
    "\n",
    "1. این دوره به کمک جزوه کلاس آقای کاویانی دانشگاه شریف نوشته آقای توکلی\n",
    "2. دوره یادگیری ماشین و هوش مصنوعی موسسه یوداسیتی\n",
    "3. مفاهیم و تکنیک‌های داده کاوی از آقای مهدی اسماعیلی\n",
    "    \n",
    "بهره گرفته شده است.    \n",
    "</div>\n"
   ]
  },
  {
   "cell_type": "markdown",
   "metadata": {},
   "source": [
    "----\n",
    "\n",
    "\n",
    "\n",
    "<h3> Any Question: </h3>\n",
    "\n",
    "<script src=\"https://utteranc.es/client.js\"\n",
    "        repo=\"mkarimi21/datamining_tutorial\"\n",
    "        issue-term=\"pathname\"\n",
    "        label=\"Comment\"\n",
    "        theme=\"github-dark\"\n",
    "        crossorigin=\"anonymous\"\n",
    "        async>\n",
    "</script>\n",
    "\n"
   ]
  },
  {
   "cell_type": "code",
   "execution_count": null,
   "metadata": {},
   "outputs": [],
   "source": []
  }
 ],
 "metadata": {
  "kernelspec": {
   "display_name": "Python 3",
   "language": "python",
   "name": "python3"
  }
 },
 "nbformat": 4,
 "nbformat_minor": 2
}

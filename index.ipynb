{
 "cells": [
  {
   "cell_type": "code",
   "execution_count": null,
   "metadata": {},
   "outputs": [],
   "source": [
    "#hide\n",
    "from DataMining import *"
   ]
  },
  {
   "cell_type": "markdown",
   "metadata": {},
   "source": [
    "# Data Mining Tutorial in University of Bojnurd\n",
    "\n",
    "\n",
    "<button type=\"button\" class=\"btn\">Basic</button>\n",
    "<button type=\"button\" class=\"btn btn-default\">Default</button>\n",
    "<button type=\"button\" class=\"btn btn-primary\">Primary</button>\n",
    "<button type=\"button\" class=\"btn btn-success\">Success</button>\n",
    "<button type=\"button\" class=\"btn btn-info\">Info</button>\n",
    "<button type=\"button\" class=\"btn btn-warning\">Warning</button>\n",
    "<button type=\"button\" class=\"btn btn-danger\">Danger</button>\n",
    "<button type=\"button\" class=\"btn btn-link\">Link</button>\n",
    "\n",
    "> Summary description here."
   ]
  },
  {
   "cell_type": "markdown",
   "metadata": {},
   "source": [
    "<nav class=\"navbar navbar-inverse\">\n",
    "  <div class=\"container-fluid\">\n",
    "    <div class=\"navbar-header\">\n",
    "      <a class=\"navbar-brand\" href=\"#\">WebSiteName</a>\n",
    "    </div>\n",
    "    <ul class=\"nav navbar-nav\">\n",
    "      <li class=\"active\"><a href=\"#\">Home</a></li>\n",
    "      <li><a href=\"#\">Page 1</a></li>\n",
    "      <li><a href=\"#\">Page 2</a></li>\n",
    "      <li><a href=\"#\">Page 3</a></li>\n",
    "    </ul>\n",
    "  </div>\n",
    "</nav>"
   ]
  },
  {
   "cell_type": "markdown",
   "metadata": {},
   "source": [
    "This file will become your README and also the index of your documentation."
   ]
  },
  {
   "cell_type": "markdown",
   "metadata": {},
   "source": [
    "## Install"
   ]
  },
  {
   "cell_type": "markdown",
   "metadata": {},
   "source": [
    "`pip install datamining`"
   ]
  },
  {
   "cell_type": "markdown",
   "metadata": {},
   "source": [
    "## How to use"
   ]
  },
  {
   "cell_type": "markdown",
   "metadata": {},
   "source": [
    "Fill me in please! Don't forget code examples:"
   ]
  },
  {
   "cell_type": "code",
   "execution_count": null,
   "metadata": {},
   "outputs": [
    {
     "data": {
      "text/plain": [
       "2"
      ]
     },
     "execution_count": null,
     "metadata": {},
     "output_type": "execute_result"
    }
   ],
   "source": [
    "1+1"
   ]
  },
  {
   "cell_type": "code",
   "execution_count": null,
   "metadata": {},
   "outputs": [],
   "source": []
  },
  {
   "cell_type": "code",
   "execution_count": null,
   "metadata": {},
   "outputs": [],
   "source": []
  }
 ],
 "metadata": {
  "kernelspec": {
   "display_name": "Python 3",
   "language": "python",
   "name": "python3"
  }
 },
 "nbformat": 4,
 "nbformat_minor": 2
}

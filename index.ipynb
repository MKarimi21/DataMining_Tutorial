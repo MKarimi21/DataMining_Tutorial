{
 "cells": [
  {
   "cell_type": "code",
   "execution_count": null,
   "metadata": {},
   "outputs": [],
   "source": [
    "#hide\n",
    "from DataMining_Tutorial import *"
   ]
  },
  {
   "cell_type": "markdown",
   "metadata": {},
   "source": [
    "# Data Mining Tutorial"
   ]
  },
  {
   "cell_type": "markdown",
   "metadata": {},
   "source": [
    "\n",
    "<br>\n",
    "<br>\n",
    "<div style=\"font-family:Vazir;\">\n",
    "    \n",
    "<h1 align='center'>\n",
    "    دوره داده کاوی برای دانشجویان دانشگاه بجنورد  \n",
    "</h1>\n",
    "<br>\n",
    "<p align=\"center\" style=\"text-align:center\"> \n",
    "    <a href=\"https://github.com/MKarimi21/DataMining_Tutorial/blob/master/LICENSE\" target=\"_blank\" style=\"display:inline-flex\"><img src=\"https://img.shields.io/badge/Licence-Apache-blue?style=flat-square\" target=\"_blank\"></a> <a href=\"https://www.MKarimi21.ir\" target=\"_blank\" style=\"display:inline-flex\"><img src=\"https://img.shields.io/badge/Create--by-MKarimi-red?style=flat-square\" target=\"_blank\"></a>\n",
    "</p> \n",
    "    \n",
    "</div>"
   ]
  },
  {
   "cell_type": "markdown",
   "metadata": {},
   "source": [
    "___"
   ]
  },
  {
   "cell_type": "markdown",
   "metadata": {},
   "source": [
    "<div dir=\"rtl\" style=\"font-family:Vazir;\" >\n",
    "<br>    \n",
    "\n",
    "<p class=\"text-justify\">\n",
    "    این دوره برای دانشجویان درس داده کاوی تدارک دیده شده است و در نظر داریم مطالب از مقدمات تا مباحث بالاتر را با زبان برنامه نویسی پایتون ارائه دهیم.\n",
    "    <br>\n",
    "    \n",
    "    \n",
    "</p>    \n",
    "\n",
    "\n",
    "<div dir=\"rtl\" style=\"font-family:Vazir;font-weight:100\">\n",
    "<br>    \n",
    "«مصطفی کریمی»\n",
    "\n",
    "</div>\n"
   ]
  },
  {
   "cell_type": "markdown",
   "metadata": {},
   "source": [
    "<div dir=\"rtl\" style=\"font-family:Vazir;\" >\n",
    "<br>    \n",
    "\n",
    "<p class=\"text-justify\">\n",
    "    این دوره در پاییز 1400 خورشیدی ارایه شده است و درحال به روز رسانی می باشد، پس از این که وب سایت کامل نیست نگران نباشید، به مرور آپدیت می‌شود.\n",
    "    <br>\n",
    "        \n",
    "</p>  "
   ]
  },
  {
   "cell_type": "markdown",
   "metadata": {},
   "source": [
    "----\n",
    "\n",
    "\n",
    "\n",
    "\n",
    "#### Any Question:\n",
    "\n",
    "<script src=\"https://utteranc.es/client.js\"\n",
    "        repo=\"mkarimi21/datamining_tutorial\"\n",
    "        issue-term=\"pathname\"\n",
    "        label=\"Comment\"\n",
    "        theme=\"github-dark\"\n",
    "        crossorigin=\"anonymous\"\n",
    "        async>\n",
    "</script>\n",
    "\n"
   ]
  },
  {
   "cell_type": "code",
   "execution_count": null,
   "metadata": {},
   "outputs": [],
   "source": []
  }
 ],
 "metadata": {
  "kernelspec": {
   "display_name": "Python 3",
   "language": "python",
   "name": "python3"
  }
 },
 "nbformat": 4,
 "nbformat_minor": 2
}

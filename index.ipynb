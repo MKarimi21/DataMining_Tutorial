{
 "cells": [
  {
   "cell_type": "code",
   "execution_count": null,
   "metadata": {},
   "outputs": [],
   "source": [
    "#hide\n",
    "from DataMining_Tutorial import *"
   ]
  },
  {
   "cell_type": "code",
   "execution_count": null,
   "metadata": {},
   "outputs": [],
   "source": []
  },
  {
   "cell_type": "markdown",
   "metadata": {},
   "source": [
    "# Data Mining Tutorial in University of Bojnurd\n",
    "\n",
    "\n",
    "<button type=\"button\" class=\"btn\">Basic</button>\n",
    "<button type=\"button\" class=\"btn btn-default\">Default</button>\n",
    "<button type=\"button\" class=\"btn btn-primary\">Primary</button>\n",
    "<button type=\"button\" class=\"btn btn-success\">Success</button>\n",
    "<button type=\"button\" class=\"btn btn-info\">Info</button>\n",
    "<button type=\"button\" class=\"btn btn-warning\">Warning</button>\n",
    "<button type=\"button\" class=\"btn btn-danger\">Danger</button>\n",
    "<button type=\"button\" class=\"btn btn-link\">Link</button>\n",
    "\n",
    "\n",
    "```\n",
    "<button type=\"button\" class=\"btn\">Basic</button>\n",
    "<button type=\"button\" class=\"btn btn-default\">Default</button>\n",
    "<button type=\"button\" class=\"btn btn-primary\">Primary</button>\n",
    "<button type=\"button\" class=\"btn btn-success\">Success</button>\n",
    "<button type=\"button\" class=\"btn btn-info\">Info</button>\n",
    "<button type=\"button\" class=\"btn btn-warning\">Warning</button>\n",
    "<button type=\"button\" class=\"btn btn-danger\">Danger</button>\n",
    "<button type=\"button\" class=\"btn btn-link\">Link</button>\n",
    "\n",
    "```\n",
    "> Summary description here."
   ]
  },
  {
   "cell_type": "markdown",
   "metadata": {},
   "source": [
    "<nav class=\"navbar navbar-inverse\">\n",
    "  <div class=\"container-fluid\">\n",
    "    <div class=\"navbar-header\">\n",
    "      <a class=\"navbar-brand\" href=\"#\">WebSiteName</a>\n",
    "    </div>\n",
    "    <ul class=\"nav navbar-nav\">\n",
    "      <li class=\"active\"><a href=\"#\">Home</a></li>\n",
    "      <li><a href=\"#\">Page 1</a></li>\n",
    "      <li><a href=\"#\">Page 2</a></li>\n",
    "      <li><a href=\"#\">Page 3</a></li>\n",
    "    </ul>\n",
    "  </div>\n",
    "</nav>"
   ]
  },
  {
   "cell_type": "markdown",
   "metadata": {},
   "source": [
    "This file will become your README and also the index of your documentation."
   ]
  },
  {
   "cell_type": "markdown",
   "metadata": {},
   "source": [
    "## Install"
   ]
  },
  {
   "cell_type": "markdown",
   "metadata": {},
   "source": [
    "`pip install datamining`"
   ]
  },
  {
   "cell_type": "markdown",
   "metadata": {},
   "source": [
    "## How to use"
   ]
  },
  {
   "cell_type": "markdown",
   "metadata": {},
   "source": [
    "Fill me in please! Don't forget code examples:"
   ]
  },
  {
   "cell_type": "markdown",
   "metadata": {},
   "source": [
    "<div class='font_Vazir'>\n",
    "    \n",
    "متن مصطفی برای فونت تست\n",
    "\n",
    "</div>"
   ]
  },
  {
   "cell_type": "markdown",
   "metadata": {},
   "source": [
    "\n",
    "\n",
    "<link href='https://cdn.fontcdn.ir/Font/Persian/Vazir/Vazir.css' rel='stylesheet' type='text/css'>\n",
    "\n",
    "<div style=\"font-family:Vazir\">\n",
    "    \n",
    "+ مورد اول\n",
    "1. مورد اول\n",
    "    \n",
    "- [ ] مورد بعدی\n",
    "- [X] بعد ترش\n",
    "    \n",
    "\n",
    "</div>\n",
    "\n",
    "\n",
    "<div dir='ltr'>\n",
    "    \n",
    "    master\n",
    "    \n",
    "\n",
    "``` python\n",
    "master import\n",
    "\n",
    "```\n",
    "   \n",
    "    \n",
    "\n",
    "</div>\n",
    "\n",
    "\n"
   ]
  },
  {
   "cell_type": "markdown",
   "metadata": {},
   "source": [
    "\n",
    "<link href='https://cdn.fontcdn.ir/Font/Persian/Vazir/Vazir.css' rel='stylesheet' type='text/css'>\n",
    "\n",
    "<div dir='rtl' lang='fa-IR' style='font-family:Vazir;font-size:16px'>\n",
    "    \n",
    "# مرتب\n",
    "\n",
    "متن *مرتب* یا [مارک‌دان]، نوشته‌ای است که شیوه نمایش آن با علامت‌های ساده‌ای مشخص شده است. یعنی شکل نمایش متن را لابه‌لای واژه‌ها می‌نویسید. مثلا *خاص* بودن یک عبارت و یا **تاکید** روی نکته‌ها با کمک ستاره انجام می‌شود.\n",
    "\n",
    "> وقتی *مرتب* می‌نویسید، مطمئن هستید که چیزی در متن پنهان نشده. در مقابل نرم‌افزار [ورد] که گاهی می‌بینید نشان‌گر روی یک خط خالی ایستاده و به صورت *مورب* قرار گرفته؛ انگار چیزی آن زیر هست. راستش آن زیر، [چیز خیلی مزخرفی] هست.\n",
    "\n",
    "نوشته‌های *مرتب* کاربردهای زیادی دارند:\n",
    "\n",
    "+ [پرسیدن سوال](http://stackoverflow.com)\n",
    "+ [بحث در مورد پروژه](https://github.com)\n",
    "+ [وب‌نوشت](https://svbtle.com)\n",
    "+ [گزارش پروژه](http://www.boute.ir)\n",
    "+ ...\n",
    "\n",
    "قرار دادن [پیوند]، پاورقی[^Footnote] و یا حتی تصویر هم در این نوشتار پیش‌بینی شده:\n",
    "\n",
    "![تصویر باز شکاری](http://www.sobhe.ir/baaz/img/goshawk.jpg)\n",
    "\n",
    "## جدول\n",
    "جدول *مرتب* شده هم بسیار بامزه است (نقطه‌ها چینش ستون را نشان می‌دهد):\n",
    "\n",
    "| نوشتار    | بدون نیاز به آموزش | ویژگی‌های نامتناهی  |\n",
    "|:----------|:------------------:|:------------------:|\n",
    "| مرتب      |          ✓         |          ✗         |\n",
    "| ورد       |          ✗         |          ✓         |\n",
    "\n",
    "## فرمول‌های ریاضی\n",
    "در نوشته‌های تخصصی، فرمول‌های ریاضی هم لازم می‌شوند، که می‌توانید آنها را در قالب $ LaTeX $ بنویسید:\n",
    "\n",
    "$$ P(E) = {n \\choose k} p^k (1-p)^{ n-k} $$\n",
    "\n",
    "## کد\n",
    "اگر برنامه‌نویس هستید، تکه کد `Python` زیر، همین نوشته را به قالب `HTML` تبدیل می‌کند:\n",
    "\n",
    "\t>>> import moratab\n",
    "\t>>> moratab.render(content)\n",
    "\n",
    "و بلاخره، نوشته [مرتب] با مشخص کردن آدرس پیوندها به پایان می‌رسد.\n",
    "\n",
    "[مرتب]: http://www.sobhe.ir/moratab\n",
    "[مارک‌دان]: https://daringfireball.net/projects/markdown\n",
    "[پیوند]: http://peyvandha.ir\n",
    "[ورد]: http://office.microsoft.com/en-us/word\n",
    "[چیز خیلی مزخرفی]: http://www.antipope.org/charlie/blog-static/2013/10/why-microsoft-word-must-die.html\n",
    "    \n",
    "</div>\n",
    "\n",
    "\n"
   ]
  },
  {
   "cell_type": "markdown",
   "metadata": {},
   "source": [
    "----\n",
    "\n",
    "<link href='https://cdn.fontcdn.ir/Font/Persian/Vazir/Vazir.css' rel='stylesheet' type='text/css'>\n",
    "\n",
    "<div dir='rtl' lang='fa-IR' style='font-family:Vazir'>   \n",
    "    \n",
    "# مصطفی\n",
    "    \n",
    "</div> \n",
    "    \n",
    "<div dir='ltr' style=\"font-family:Vazir;font-weight:100\">\n",
    "    \n",
    "مردانه به سوی شتابان\n",
    "\n",
    "</div>"
   ]
  },
  {
   "cell_type": "code",
   "execution_count": null,
   "metadata": {},
   "outputs": [],
   "source": []
  },
  {
   "cell_type": "markdown",
   "metadata": {},
   "source": [
    "----\n",
    "\n",
    "#### Any Question:\n",
    "\n",
    "<script src=\"https://utteranc.es/client.js\"\n",
    "        repo=\"mkarimi21/datamining_tutorial\"\n",
    "        issue-term=\"pathname\"\n",
    "        label=\"Comment\"\n",
    "        theme=\"github-dark\"\n",
    "        crossorigin=\"anonymous\"\n",
    "        async>\n",
    "</script>\n",
    "\n"
   ]
  },
  {
   "cell_type": "code",
   "execution_count": null,
   "metadata": {},
   "outputs": [],
   "source": []
  }
 ],
 "metadata": {
  "kernelspec": {
   "display_name": "Python 3",
   "language": "python",
   "name": "python3"
  }
 },
 "nbformat": 4,
 "nbformat_minor": 2
}
